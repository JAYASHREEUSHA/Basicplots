{
  "cells": [
    {
      "cell_type": "markdown",
      "metadata": {
        "id": "view-in-github",
        "colab_type": "text"
      },
      "source": [
        "<a href=\"https://colab.research.google.com/github/JAYASHREEUSHA/Basicplots/blob/main/NLP.ipynb\" target=\"_parent\"><img src=\"https://colab.research.google.com/assets/colab-badge.svg\" alt=\"Open In Colab\"/></a>"
      ]
    },
    {
      "cell_type": "code",
      "source": [
        "import nltk\n",
        "nltk.download('punkt')\n",
        "paragraph = \"Machine Learning is a branch of the broader field of artificial intelligence that makes use of statistical models to develop predictions. It is often described as a form of predictive modelling or predictive analytics and traditionally, has been defined as the ability of a computer to learn without explicitly being programmed to do so.\"\n"
      ],
      "metadata": {
        "id": "-98vukT2g80D",
        "outputId": "579c48dd-d177-40c7-b983-cad6543a82de",
        "colab": {
          "base_uri": "https://localhost:8080/"
        }
      },
      "execution_count": null,
      "outputs": [
        {
          "output_type": "stream",
          "name": "stderr",
          "text": [
            "[nltk_data] Downloading package punkt to /root/nltk_data...\n",
            "[nltk_data]   Unzipping tokenizers/punkt.zip.\n"
          ]
        }
      ]
    },
    {
      "cell_type": "markdown",
      "source": [
        "Converting paragraph into Sentences"
      ],
      "metadata": {
        "id": "_nZjUMzzd9Bv"
      }
    },
    {
      "cell_type": "code",
      "source": [
        "sentences=nltk.sent_tokenize(paragraph)"
      ],
      "metadata": {
        "id": "mDtR3kskdzVg"
      },
      "execution_count": null,
      "outputs": []
    },
    {
      "cell_type": "markdown",
      "source": [
        "Converting sentences to works"
      ],
      "metadata": {
        "id": "PGxIKbB4eEbN"
      }
    },
    {
      "cell_type": "code",
      "source": [
        "Word=nltk.word_tokenize(paragraph)\n",
        "print(sentences)\n",
        "print(Word)"
      ],
      "metadata": {
        "id": "92oMODrLeIrg",
        "outputId": "3715a864-d94a-4709-a380-6e4acaf66df8",
        "colab": {
          "base_uri": "https://localhost:8080/"
        }
      },
      "execution_count": null,
      "outputs": [
        {
          "output_type": "stream",
          "name": "stdout",
          "text": [
            "['Machine Learning is a branch of the broader field of artificial intelligence that makes use of statistical models to develop predictions.', 'It is often described as a form of predictive modelling or predictive analytics and traditionally, has been defined as the ability of a computer to learn without explicitly being programmed to do so.']\n",
            "['Machine', 'Learning', 'is', 'a', 'branch', 'of', 'the', 'broader', 'field', 'of', 'artificial', 'intelligence', 'that', 'makes', 'use', 'of', 'statistical', 'models', 'to', 'develop', 'predictions', '.', 'It', 'is', 'often', 'described', 'as', 'a', 'form', 'of', 'predictive', 'modelling', 'or', 'predictive', 'analytics', 'and', 'traditionally', ',', 'has', 'been', 'defined', 'as', 'the', 'ability', 'of', 'a', 'computer', 'to', 'learn', 'without', 'explicitly', 'being', 'programmed', 'to', 'do', 'so', '.']\n"
          ]
        }
      ]
    }
  ],
  "metadata": {
    "colab": {
      "toc_visible": true,
      "provenance": [],
      "include_colab_link": true
    },
    "kernelspec": {
      "display_name": "Python 3",
      "name": "python3"
    }
  },
  "nbformat": 4,
  "nbformat_minor": 0
}