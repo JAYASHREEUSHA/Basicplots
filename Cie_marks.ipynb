{
  "cells": [
    {
      "cell_type": "markdown",
      "metadata": {
        "id": "view-in-github",
        "colab_type": "text"
      },
      "source": [
        "<a href=\"https://colab.research.google.com/github/JAYASHREEUSHA/Basicplots/blob/main/Cie_marks.ipynb\" target=\"_parent\"><img src=\"https://colab.research.google.com/assets/colab-badge.svg\" alt=\"Open In Colab\"/></a>"
      ]
    },
    {
      "cell_type": "markdown",
      "source": [
        "Importing Libraries"
      ],
      "metadata": {
        "id": "1Gouaf6PX4wB"
      }
    },
    {
      "cell_type": "code",
      "source": [
        "import pandas as pd\n",
        "import numpy as np\n",
        "import matplotlib.pyplot as plt\n",
        "from sklearn.model_selection import train_test_split\n",
        "\n"
      ],
      "metadata": {
        "id": "oD8qDmFdX5Uq"
      },
      "execution_count": null,
      "outputs": []
    },
    {
      "cell_type": "markdown",
      "source": [
        "importing the dataset"
      ],
      "metadata": {
        "id": "4r9VjIhdY7pO"
      }
    },
    {
      "cell_type": "code",
      "source": [
        "dataset = pd.read_csv('CIE.csv')\n",
        "x=dataset.iloc[:,:-1]\n",
        "y=dataset.iloc[:,-1]\n",
        "print(x)\n",
        "print(y)"
      ],
      "metadata": {
        "id": "bMca5RqUYMzz",
        "outputId": "3d4b168a-1406-41bc-dcf4-adb4dec2db1f",
        "colab": {
          "base_uri": "https://localhost:8080/"
        }
      },
      "execution_count": null,
      "outputs": [
        {
          "output_type": "stream",
          "name": "stdout",
          "text": [
            "    CIE\n",
            "0   235\n",
            "1   225\n",
            "2   211\n",
            "3   140\n",
            "4   171\n",
            "5   133\n",
            "6   148\n",
            "7   177\n",
            "8   178\n",
            "9   131\n",
            "10  145\n",
            "11  133\n",
            "12  233\n",
            "13  229\n",
            "14  130\n",
            "15  182\n",
            "16  234\n",
            "17  135\n",
            "18  179\n",
            "0     135\n",
            "1     125\n",
            "2      89\n",
            "3      79\n",
            "4     138\n",
            "5      55\n",
            "6      91\n",
            "7     111\n",
            "8     155\n",
            "9      69\n",
            "10     99\n",
            "11     61\n",
            "12    133\n",
            "13    149\n",
            "14     49\n",
            "15    129\n",
            "16    140\n",
            "17     99\n",
            "18    100\n",
            "Name: SEE, dtype: int64\n"
          ]
        }
      ]
    },
    {
      "cell_type": "markdown",
      "source": [
        "Splitting the dataset into the training set and test set"
      ],
      "metadata": {
        "id": "cEWbfbiUZI1x"
      }
    },
    {
      "cell_type": "code",
      "source": [
        "x_train,x_test,y_train,y_test=train_test_split(x,y,test_size=0.2,random_state=1)\n",
        "print(x_train)\n",
        "print(x_test)\n",
        "print(y_train)\n",
        "print(y_test)"
      ],
      "metadata": {
        "id": "uNUI_H1oYXai",
        "outputId": "6f2aef2b-1e0e-44e1-d2e1-0e6f05abbcbc",
        "colab": {
          "base_uri": "https://localhost:8080/"
        }
      },
      "execution_count": null,
      "outputs": [
        {
          "output_type": "stream",
          "name": "stdout",
          "text": [
            "    CIE\n",
            "2   211\n",
            "14  130\n",
            "4   171\n",
            "16  234\n",
            "7   177\n",
            "1   225\n",
            "13  229\n",
            "0   235\n",
            "18  179\n",
            "17  135\n",
            "9   131\n",
            "8   178\n",
            "12  233\n",
            "11  133\n",
            "5   133\n",
            "    CIE\n",
            "3   140\n",
            "15  182\n",
            "6   148\n",
            "10  145\n",
            "2      89\n",
            "14     49\n",
            "4     138\n",
            "16    140\n",
            "7     111\n",
            "1     125\n",
            "13    149\n",
            "0     135\n",
            "18    100\n",
            "17     99\n",
            "9      69\n",
            "8     155\n",
            "12    133\n",
            "11     61\n",
            "5      55\n",
            "Name: SEE, dtype: int64\n",
            "3      79\n",
            "15    129\n",
            "6      91\n",
            "10     99\n",
            "Name: SEE, dtype: int64\n"
          ]
        }
      ]
    },
    {
      "cell_type": "markdown",
      "source": [
        "Predicting the Trainset Results"
      ],
      "metadata": {
        "id": "8pORoEqIZRVw"
      }
    },
    {
      "cell_type": "code",
      "source": [
        "from sklearn.linear_model import LinearRegression\n",
        "regressor = LinearRegression()\n",
        "regressor.fit(x_train, y_train)"
      ],
      "metadata": {
        "id": "zLQ6KXHxYbpi",
        "outputId": "033170ad-b36a-43b6-8e55-e08ac7e2f7a3",
        "colab": {
          "base_uri": "https://localhost:8080/"
        }
      },
      "execution_count": null,
      "outputs": [
        {
          "output_type": "execute_result",
          "data": {
            "text/plain": [
              "LinearRegression()"
            ]
          },
          "metadata": {},
          "execution_count": 4
        }
      ]
    },
    {
      "cell_type": "markdown",
      "source": [
        "Predicting the Trainset Results"
      ],
      "metadata": {
        "id": "31601XDgZbBY"
      }
    },
    {
      "cell_type": "code",
      "source": [
        "ypred=[regressor.predict(x_train)]"
      ],
      "metadata": {
        "id": "QRABGyQWYgNC"
      },
      "execution_count": null,
      "outputs": []
    },
    {
      "cell_type": "markdown",
      "source": [
        "Visualising the training set Results"
      ],
      "metadata": {
        "id": "L23zjlBKZyb5"
      }
    },
    {
      "cell_type": "code",
      "source": [
        "ypred=regressor.predict(x_train)"
      ],
      "metadata": {
        "id": "n1nqLYm7Yjcp"
      },
      "execution_count": null,
      "outputs": []
    },
    {
      "cell_type": "markdown",
      "source": [
        "Visulising the train set Results"
      ],
      "metadata": {
        "id": "yuJaqQRbZ154"
      }
    },
    {
      "cell_type": "code",
      "source": [
        "plt.scatter(x_train,y_train,color= 'red')\n",
        "plt.plot(x_train, regressor.predict(x_train), color = 'blue')\n",
        "plt.title(' CIE Vs SEE(Traning set)')\n",
        "plt.xlabel('CIE')\n",
        "plt.ylabel('SEE')\n",
        "plt.show()"
      ],
      "metadata": {
        "id": "mRa-iI6_Ymoc",
        "outputId": "dc3e7471-fa1e-48b1-c504-7dcce234bcf7",
        "colab": {
          "base_uri": "https://localhost:8080/",
          "height": 295
        }
      },
      "execution_count": null,
      "outputs": [
        {
          "output_type": "display_data",
          "data": {
            "text/plain": [
              "<Figure size 432x288 with 1 Axes>"
            ],
            "image/png": "[encoded data removed]"
          },
          "metadata": {
            "needs_background": "light"
          }
        }
      ]
    },
    {
      "cell_type": "markdown",
      "source": [
        "Visulising the test set Results"
      ],
      "metadata": {
        "id": "NdasDUmGZ6ZP"
      }
    },
    {
      "cell_type": "code",
      "source": [
        "plt.scatter(x_test,y_test,color= 'red')\n",
        "plt.plot(x_train, regressor.predict(x_train), color = 'blue')\n",
        "plt.title('CIE Vs SEE (Test set)')\n",
        "plt.xlabel('CIE')\n",
        "plt.ylabel('SEE')\n",
        "plt.show()"
      ],
      "metadata": {
        "id": "sQe5p7FmYr0C",
        "outputId": "f1693605-9a65-44c7-a311-2d56a8ee22fb",
        "colab": {
          "base_uri": "https://localhost:8080/",
          "height": 295
        }
      },
      "execution_count": null,
      "outputs": [
        {
          "output_type": "display_data",
          "data": {
            "text/plain": [
              "<Figure size 432x288 with 1 Axes>"
            ],
            "image/png": "[encoded data removed]"
          },
          "metadata": {
            "needs_background": "light"
          }
        }
      ]
    },
    {
      "cell_type": "markdown",
      "source": [
        "Model evaluation"
      ],
      "metadata": {
        "id": "8aRsjsolaLWM"
      }
    },
    {
      "cell_type": "code",
      "source": [
        "from sklearn.metrics import mean_absolute_error, mean_squared_error, r2_score\n",
        "\n",
        "y_pred =regressor.predict(x_test)\n",
        "print(\"MAE\", mean_absolute_error(y_test, y_pred))\n",
        "print(\"MSE\", mean_squared_error(y_test, y_pred))\n",
        "print(\"RMSE\", np.sqrt(mean_squared_error(y_test, y_pred)))\n",
        "print(\"r2_score\", r2_score(y_test, y_pred))\n",
        "r2 = r2_score(y_test, y_pred)"
      ],
      "metadata": {
        "id": "qHbnGATYYuWJ",
        "outputId": "15edfe49-fbb9-4330-a098-1985aef33ab8",
        "colab": {
          "base_uri": "https://localhost:8080/"
        }
      },
      "execution_count": null,
      "outputs": [
        {
          "output_type": "stream",
          "name": "stdout",
          "text": [
            "MAE 11.13456510599136\n",
            "MSE 190.9161592717669\n",
            "RMSE 13.817241377053776\n",
            "r2_score 0.4397178011100018\n"
          ]
        }
      ]
    }
  ],
  "metadata": {
    "colab": {
      "provenance": [],
      "include_colab_link": true
    },
    "kernelspec": {
      "display_name": "Python 3",
      "name": "python3"
    }
  },
  "nbformat": 4,
  "nbformat_minor": 0
}