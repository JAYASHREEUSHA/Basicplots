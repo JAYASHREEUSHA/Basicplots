{
  "nbformat": 4,
  "nbformat_minor": 0,
  "metadata": {
    "colab": {
      "provenance": [],
      "authorship_tag": "ABX9TyN/M8JXctuRR2S0MwJIo0GY",
      "include_colab_link": true
    },
    "kernelspec": {
      "name": "python3",
      "display_name": "Python 3"
    },
    "language_info": {
      "name": "python"
    }
  },
  "cells": [
    {
      "cell_type": "markdown",
      "metadata": {
        "id": "view-in-github",
        "colab_type": "text"
      },
      "source": [
        "<a href=\"https://colab.research.google.com/github/JAYASHREEUSHA/Basicplots/blob/main/Mini_project.ipynb\" target=\"_parent\"><img src=\"https://colab.research.google.com/assets/colab-badge.svg\" alt=\"Open In Colab\"/></a>"
      ]
    },
    {
      "cell_type": "markdown",
      "source": [
        "Regression model (multiple_linear_regression)"
      ],
      "metadata": {
        "id": "tM5HLVQbEXzc"
      }
    },
    {
      "cell_type": "code",
      "source": [
        "#Import libaries\n",
        "\n",
        "import numpy as np\n",
        "import pandas as pd\n",
        "import matplotlib.pyplot as plt\n",
        "from sklearn.model_selection import train_test_split\n",
        "from sklearn.linear_model import LinearRegression\n",
        "from sklearn.impute import SimpleImputer\n",
        "from sklearn.preprocessing import StandardScaler\n",
        "\n",
        "#Import dataset\n",
        "\n",
        "df=pd.read_csv('32_Murder_victim_age_sex.csv')\n",
        "\n",
        "x1 =df[\"Victims_Above_50_Yrs\"].mean()\n",
        "df[\"Victims_Above_50_Yrs\"].fillna(x1, inplace = True)\n",
        "x1 =df[\"Victims_Upto_10_15_Yrs\"].mean()\n",
        "df[\"Victims_Upto_10_15_Yrs\"].fillna(x1, inplace = True)\n",
        "x1 =df[\"Victims_Upto_10_Yrs\"].mean()\n",
        "df[\"Victims_Upto_10_Yrs\"].fillna(x1, inplace = True)\n",
        "x1 =df[\"Victims_Upto_15_18_Yrs\"].mean()\n",
        "df[\"Victims_Upto_15_18_Yrs\"].fillna(x1, inplace = True)\n",
        "x1 =df[\"Victims_Upto_18_30_Yrs\"].mean()\n",
        "df[\"Victims_Upto_18_30_Yrs\"].fillna(x1, inplace = True)\n",
        "x1 =df[\"Victims_Upto_30_50_Yrs\"].mean()\n",
        "df[\"Victims_Upto_30_50_Yrs\"].fillna(x1, inplace = True)\n",
        "x=df.iloc[:,4:-1].values\n",
        "y=df.iloc[:,-1].values\n",
        "\n",
        "\n",
        "#Splitting the dataset into trainset and testset\n",
        "x_train,x_test,y_train,y_test=train_test_split(x,y,test_size=0.30,random_state=1)\n",
        "\n",
        "#Traning the simple Linear Regression model\n",
        "regressor=LinearRegression()\n",
        "regressor.fit(x_train,y_train)\n",
        "LinearRegression()\n",
        "\n",
        "\n",
        "#Predicting the test set and train set\n",
        "y_pred=regressor.predict(x_test)\n",
        "x_pred=regressor.predict(x_train)\n",
        "\n",
        "\n",
        "#Applying the linear regression model\n",
        "from sklearn.metrics import mean_absolute_error, mean_squared_error, r2_score\n",
        "y_pred =regressor.predict(x_test)\n",
        "print(\"MAE\", mean_absolute_error(y_test, y_pred))\n",
        "print(\"MSE\", mean_squared_error(y_test, y_pred))\n",
        "print(\"RMSE\", np.sqrt(mean_squared_error(y_test, y_pred)))\n",
        "print(\"r2 score\", r2_score(y_test, y_pred))\n",
        "r2 = r2_score(y_test, y_pred)\n",
        "\n"
      ],
      "metadata": {
        "colab": {
          "base_uri": "https://localhost:8080/"
        },
        "id": "uIvY1QOHFObj",
        "outputId": "1b03cfa3-da09-4b05-93ea-9beaa0dde694"
      },
      "execution_count": null,
      "outputs": [
        {
          "output_type": "stream",
          "name": "stdout",
          "text": [
            "MAE 25.261278739723018\n",
            "MSE 2214.281981347136\n",
            "RMSE 47.05615774101341\n",
            "r2 score 0.9832595992643997\n"
          ]
        }
      ]
    },
    {
      "cell_type": "markdown",
      "source": [
        "Classification model ( Support_vector_machine)\n",
        "\n"
      ],
      "metadata": {
        "id": "-77iCAbJGK4L"
      }
    },
    {
      "cell_type": "code",
      "source": [
        "#importing the libarires\n",
        "import numpy as np\n",
        "import pandas as pd\n",
        "from sklearn.metrics import confusion_matrix,accuracy_score\n",
        "from sklearn.model_selection import train_test_split\n",
        "from sklearn.preprocessing import StandardScaler, LabelEncoder\n",
        "from sklearn.impute import SimpleImputer\n",
        "from sklearn.svm import SVC\n",
        "\n",
        "\n",
        "#importing the dataset\n",
        "df=pd.read_csv('32_Murder_victim_age_sex.csv')\n",
        "\n",
        "# finding the mean\n",
        "imputer = SimpleImputer(missing_values=np.nan, strategy='mean')\n",
        "x1 =df[\"Victims_Above_50_Yrs\"].mean()\n",
        "df[\"Victims_Above_50_Yrs\"].fillna(x1, inplace = True)\n",
        "x1 =df[\"Victims_Upto_10_15_Yrs\"].mean()\n",
        "df[\"Victims_Upto_10_15_Yrs\"].fillna(x1, inplace = True)\n",
        "x1 =df[\"Victims_Upto_10_Yrs\"].mean()\n",
        "df[\"Victims_Upto_10_Yrs\"].fillna(x1, inplace = True)\n",
        "x1 =df[\"Victims_Upto_15_18_Yrs\"].mean()\n",
        "df[\"Victims_Upto_15_18_Yrs\"].fillna(x1, inplace = True)\n",
        "x1 =df[\"Victims_Upto_18_30_Yrs\"].mean()\n",
        "df[\"Victims_Upto_18_30_Yrs\"].fillna(x1, inplace = True)\n",
        "x1 =df[\"Victims_Upto_30_50_Yrs\"].mean()\n",
        "df[\"Victims_Upto_30_50_Yrs\"].fillna(x1, inplace = True)\n",
        "x1 =df[\"Victims_Total\"].mean()\n",
        "df[\"Victims_Total\"].fillna(x1, inplace = True)\n",
        "\n",
        "x=df.iloc[:,5:-1].values\n",
        "y=df.iloc[:,-1].values\n",
        "\n",
        "\n",
        "#Feature scaling\n",
        "le = LabelEncoder()\n",
        "y = le.fit_transform(y)\n",
        "\n",
        "\n",
        "#Predicting a new result\n",
        "xtrain,xtest, ytrain, ytest = train_test_split(x,y,test_size=35, random_state=1)\n",
        "\n",
        "\n",
        "# training the model\n",
        "regressor = SVC(kernel='linear',random_state=1)\n",
        "regressor.fit(xtrain,ytrain)\n",
        "\n",
        "\n",
        "# predicting the values\n",
        "ypred = regressor.predict(xtest)\n",
        "\n",
        "\n",
        "# accuracy score\n",
        "cm = confusion_matrix(ytest,ypred)\n",
        "print(cm)\n",
        "print(accuracy_score(ytest,ypred))"
      ],
      "metadata": {
        "colab": {
          "base_uri": "https://localhost:8080/"
        },
        "id": "MbBD8q0yGPL5",
        "outputId": "c1ce4651-0873-4680-bf5d-4fe117f81c67"
      },
      "execution_count": null,
      "outputs": [
        {
          "output_type": "stream",
          "name": "stdout",
          "text": [
            "[[1 1 0 ... 0 0 0]\n",
            " [0 1 0 ... 0 0 0]\n",
            " [0 1 1 ... 0 0 0]\n",
            " ...\n",
            " [0 0 0 ... 0 0 0]\n",
            " [0 0 0 ... 0 0 1]\n",
            " [0 0 0 ... 0 0 0]]\n",
            "0.17142857142857143\n"
          ]
        }
      ]
    }
  ]
}