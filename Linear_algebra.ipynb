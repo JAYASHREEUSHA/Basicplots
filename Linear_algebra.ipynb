{
  "cells": [
    {
      "cell_type": "markdown",
      "metadata": {
        "id": "view-in-github",
        "colab_type": "text"
      },
      "source": [
        "<a href=\"https://colab.research.google.com/github/JAYASHREEUSHA/Basicplots/blob/main/Linear_algebra.ipynb\" target=\"_parent\"><img src=\"https://colab.research.google.com/assets/colab-badge.svg\" alt=\"Open In Colab\"/></a>"
      ]
    },
    {
      "cell_type": "markdown",
      "source": [
        "Creating matrix using array feature in numpy"
      ],
      "metadata": {
        "id": "HvKSOcPq7cfV"
      }
    },
    {
      "cell_type": "code",
      "source": [
        "import numpy as np\n",
        "\n",
        "A=np.array([[1,2,7,2],[5,8,-9,0],[6,-7,11,12]])\n",
        "print(\"A=\",A)"
      ],
      "metadata": {
        "colab": {
          "base_uri": "https://localhost:8080/"
        },
        "id": "XKR057CS7kel",
        "outputId": "7c53623e-f1ae-48b9-b212-15a3e0394a4c"
      },
      "execution_count": 1,
      "outputs": [
        {
          "output_type": "stream",
          "name": "stdout",
          "text": [
            "A= [[ 1  2  7  2]\n",
            " [ 5  8 -9  0]\n",
            " [ 6 -7 11 12]]\n"
          ]
        }
      ]
    },
    {
      "cell_type": "markdown",
      "source": [
        "Matrix using Additon and multiplication"
      ],
      "metadata": {
        "id": "Zx_yiFt0gyvz"
      }
    },
    {
      "cell_type": "code",
      "source": [
        "import numpy as np\n",
        "import numpy.linalg as la\n",
        "\n",
        "A=np.array([[1,2],\n",
        "            [3,4]])\n",
        "\n",
        "Adet=la.det(A)\n",
        "print(Adet)\n",
        "\n",
        "B=np.array([[-1,3,0],\n",
        "            [2,1,-5],\n",
        "            [1,4,-2]])\n",
        "Bdet=la.det(B)\n",
        "print(Bdet)"
      ],
      "metadata": {
        "id": "pmhIHIN4xS64",
        "outputId": "743f1c7f-e82b-4731-92d3-255d1a6ad494",
        "colab": {
          "base_uri": "https://localhost:8080/"
        }
      },
      "execution_count": 6,
      "outputs": [
        {
          "output_type": "stream",
          "name": "stdout",
          "text": [
            "-2.0000000000000004\n",
            "-21.00000000000001\n"
          ]
        }
      ]
    },
    {
      "cell_type": "markdown",
      "source": [
        "Matrix multiplication"
      ],
      "metadata": {
        "id": "6gvnYZd119jI"
      }
    },
    {
      "cell_type": "code",
      "source": [
        "\n",
        "C=np.dot(A,B)\n",
        "print(\"A*B =\",C)\n"
      ],
      "metadata": {
        "colab": {
          "base_uri": "https://localhost:8080/"
        },
        "id": "JDjZsd5M1-Fn",
        "outputId": "d57ef4e0-390a-491b-b7f0-0895ddf26cf3"
      },
      "execution_count": 4,
      "outputs": [
        {
          "output_type": "stream",
          "name": "stdout",
          "text": [
            "A*B = [[  3  -2]\n",
            " [-11   6]]\n"
          ]
        }
      ]
    },
    {
      "cell_type": "markdown",
      "source": [
        "Martix operations"
      ],
      "metadata": {
        "id": "2Hi9e7aEYI3q"
      }
    },
    {
      "cell_type": "code",
      "source": [
        "import numpy as np\n",
        "\n",
        "A=np.array([[0,1],[-2,-3]])\n",
        "B=np.array([[1,-0],[3,-2]])\n",
        "C=A+B\n",
        "print(\"A+B=\",C)\n",
        "C=A-B\n",
        "print(\"A-B=\",C)"
      ],
      "metadata": {
        "colab": {
          "base_uri": "https://localhost:8080/"
        },
        "id": "s3X5tCpoYxHy",
        "outputId": "2474dc5b-76e3-4b31-89e5-91046d57a78a"
      },
      "execution_count": 3,
      "outputs": [
        {
          "output_type": "stream",
          "name": "stdout",
          "text": [
            "A+B= [[ 1  1]\n",
            " [ 1 -5]]\n",
            "A-B= [[-1  1]\n",
            " [-5 -1]]\n"
          ]
        }
      ]
    },
    {
      "cell_type": "markdown",
      "source": [
        "Transpose of matrix"
      ],
      "metadata": {
        "id": "bak-WRDcaUpb"
      }
    },
    {
      "cell_type": "code",
      "source": [
        "\n",
        "import numpy as np\n",
        "\n",
        "A=np.array([[1,3,7,2],\n",
        "            [5,8,-9,0],\n",
        "            [6,-7,11,12]])\n",
        "print(\"A=\"); print(A)\n",
        "Atr=np.transpose(A)\n",
        "print(\"Transpose of A=\")\n",
        "print(Atr)"
      ],
      "metadata": {
        "colab": {
          "base_uri": "https://localhost:8080/"
        },
        "id": "g5B2Y1pGaYaN",
        "outputId": "c03a599c-91a6-48f3-bba7-4c530866e2af"
      },
      "execution_count": 5,
      "outputs": [
        {
          "output_type": "stream",
          "name": "stdout",
          "text": [
            "A=\n",
            "[[ 1  3  7  2]\n",
            " [ 5  8 -9  0]\n",
            " [ 6 -7 11 12]]\n",
            "Transpose of A=\n",
            "[[ 1  5  6]\n",
            " [ 3  8 -7]\n",
            " [ 7 -9 11]\n",
            " [ 2  0 12]]\n"
          ]
        }
      ]
    },
    {
      "cell_type": "markdown",
      "source": [
        "Egien value"
      ],
      "metadata": {
        "id": "8t5ZSsp4cFdV"
      }
    },
    {
      "cell_type": "code",
      "source": [
        "import numpy as np                                 \n",
        "import numpy.linalg as la\n",
        "\n",
        "A=np.array([[0,1],\n",
        "            [-2,-3]])\n",
        "Aeig, v=la.eig(A)\n",
        "print(Aeig)"
      ],
      "metadata": {
        "colab": {
          "base_uri": "https://localhost:8080/"
        },
        "id": "bEbnakWacIeJ",
        "outputId": "63d2f40d-a29c-4747-f05f-4665a124c552"
      },
      "execution_count": 8,
      "outputs": [
        {
          "output_type": "stream",
          "name": "stdout",
          "text": [
            "[-1. -2.]\n"
          ]
        }
      ]
    },
    {
      "cell_type": "markdown",
      "source": [
        "Inverse of matrix"
      ],
      "metadata": {
        "id": "n59fB9y0dPuT"
      }
    },
    {
      "cell_type": "code",
      "source": [
        "import numpy as np\n",
        "import numpy.linalg as la\n",
        "\n",
        "A=np.array([[1,2],[3,4]])\n",
        "\n",
        "Ainv=la.inv(A)\n",
        "print(Ainv)\n",
        "\n",
        "B=np.array([[-1,3,0],[2,1,-5],[1,4,-2]])\n",
        "\n",
        "Binv=la.inv(B)\n",
        "print(Binv)\n"
      ],
      "metadata": {
        "colab": {
          "base_uri": "https://localhost:8080/"
        },
        "id": "EPAUfseXdSe7",
        "outputId": "5c9558e6-f5ef-414e-fdf7-1a537f7a0116"
      },
      "execution_count": 7,
      "outputs": [
        {
          "output_type": "stream",
          "name": "stdout",
          "text": [
            "[[-2.   1. ]\n",
            " [ 1.5 -0.5]]\n",
            "[[-0.85714286 -0.28571429  0.71428571]\n",
            " [ 0.04761905 -0.0952381   0.23809524]\n",
            " [-0.33333333 -0.33333333  0.33333333]]\n"
          ]
        }
      ]
    },
    {
      "cell_type": "markdown",
      "source": [
        "Solving Linear equations"
      ],
      "metadata": {
        "id": "1xUnMEQCfGTF"
      }
    },
    {
      "cell_type": "code",
      "source": [
        "import numpy as np\n",
        "import numpy.linalg as la\n",
        "\n",
        "A=np.array([[1,2],\n",
        "            [3,4]])\n",
        "b=np.array([[5],\n",
        "            [6]])\n",
        "\n",
        "Ainv=la.inv(A)\n",
        "x=Ainv.dot(b)\n",
        "print(x)\n",
        "\n",
        "\n"
      ],
      "metadata": {
        "colab": {
          "base_uri": "https://localhost:8080/"
        },
        "id": "ttEj47aHfM09",
        "outputId": "9d634d30-2c7e-402c-91bd-bd7c5e0d3641"
      },
      "execution_count": 9,
      "outputs": [
        {
          "output_type": "stream",
          "name": "stdout",
          "text": [
            "[[-4. ]\n",
            " [ 4.5]]\n"
          ]
        }
      ]
    },
    {
      "cell_type": "markdown",
      "source": [
        "Alternative method "
      ],
      "metadata": {
        "id": "zUF4MqmP-WTh"
      }
    },
    {
      "cell_type": "code",
      "source": [
        "x=np.linalg.solve(A,b)\n",
        "print(x)"
      ],
      "metadata": {
        "colab": {
          "base_uri": "https://localhost:8080/"
        },
        "id": "kIlqI8PX-Zhb",
        "outputId": "80ab5a6a-b3a6-4a01-dc39-e2c957998624"
      },
      "execution_count": 10,
      "outputs": [
        {
          "output_type": "stream",
          "name": "stdout",
          "text": [
            "[[-4. ]\n",
            " [ 4.5]]\n"
          ]
        }
      ]
    }
  ],
  "metadata": {
    "colab": {
      "provenance": [],
      "include_colab_link": true
    },
    "kernelspec": {
      "display_name": "Python 3",
      "name": "python3"
    }
  },
  "nbformat": 4,
  "nbformat_minor": 0
}